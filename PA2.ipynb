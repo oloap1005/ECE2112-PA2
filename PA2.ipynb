{
 "cells": [
  {
   "cell_type": "markdown",
   "id": "72f45461-2a78-4163-83da-8cab25258b25",
   "metadata": {},
   "source": [
    "# NORMALIZATION PROBLEM"
   ]
  },
  {
   "cell_type": "code",
   "execution_count": 27,
   "id": "06f30bba-06a5-4a5d-ad5e-125861d84068",
   "metadata": {},
   "outputs": [
    {
     "data": {
      "text/plain": [
       "array([[ 1.30113113,  1.24906457, -0.59626502,  1.07178438,  0.6951935 ],\n",
       "       [-0.39709287, -1.51396552,  0.79657393, -0.59885028, -0.86518167],\n",
       "       [ 1.58198315,  0.73698288,  1.36927594, -1.14799478, -0.57027429],\n",
       "       [ 1.45230283,  0.92181023, -0.84163437, -0.60523421, -1.5489345 ],\n",
       "       [ 0.38195939, -1.15232802, -0.70200779, -0.71680315, -0.30149544]])"
      ]
     },
     "execution_count": 27,
     "metadata": {},
     "output_type": "execute_result"
    }
   ],
   "source": [
    "import numpy as np\n",
    "\n",
    "#make a rnadom 5x5 array\n",
    "random_array = np.random.random((5,5))\n",
    "\n",
    "#normalize the array\n",
    "X_mean = np.mean(random_array)\n",
    "X_std = np.std(random_array) \n",
    "normalized_array = (random_array-X_mean)/(X_std)\n",
    "\n",
    "#save array to .npy file\n",
    "np.save ('normalized_array.npy', normalized_array)\n",
    "\n",
    "#printing the data\n",
    "data = np.load ('normalized_array.npy')\n",
    "data"
   ]
  },
  {
   "cell_type": "markdown",
   "id": "b6213252-276c-4ce8-be66-d88b67ca76de",
   "metadata": {},
   "source": [
    "# DIVISIBLE BY 3 PROBLEM"
   ]
  },
  {
   "cell_type": "code",
   "execution_count": 50,
   "id": "b4f70bd3-c730-433e-ab8a-7fb5f4d9fc36",
   "metadata": {},
   "outputs": [
    {
     "data": {
      "text/plain": [
       "array([   9,   36,   81,  144,  225,  324,  441,  576,  729,  900, 1089,\n",
       "       1296, 1521, 1764, 2025, 2304, 2601, 2916, 3249, 3600, 3969, 4356,\n",
       "       4761, 5184, 5625, 6084, 6561, 7056, 7569, 8100, 8649, 9216, 9801])"
      ]
     },
     "execution_count": 50,
     "metadata": {},
     "output_type": "execute_result"
    }
   ],
   "source": [
    "import numpy as np\n",
    "\n",
    "# Create a 10x10 ndarray A where each element is the square of the first 100 positive integers\n",
    "A = np.arange(1, 101).reshape((10, 10))\n",
    "Squared_A = np.square(A)\n",
    "\n",
    "# Determine all elements that are divisible by 3\n",
    "div_by_3 = Squared_A[Squared_A % 3 == 0]\n",
    "\n",
    "# Save the result to a .npy file\n",
    "np.save('div_by_3.npy', div_by_3)\n",
    "\n",
    "# Load the saved data\n",
    "data = np.load('div_by_3.npy')\n",
    "data\n"
   ]
  },
  {
   "cell_type": "code",
   "execution_count": null,
   "id": "dea19e41-46d5-47a0-bf4d-6a18b1730130",
   "metadata": {},
   "outputs": [],
   "source": []
  }
 ],
 "metadata": {
  "kernelspec": {
   "display_name": "Python 3 (ipykernel)",
   "language": "python",
   "name": "python3"
  },
  "language_info": {
   "codemirror_mode": {
    "name": "ipython",
    "version": 3
   },
   "file_extension": ".py",
   "mimetype": "text/x-python",
   "name": "python",
   "nbconvert_exporter": "python",
   "pygments_lexer": "ipython3",
   "version": "3.12.4"
  }
 },
 "nbformat": 4,
 "nbformat_minor": 5
}
